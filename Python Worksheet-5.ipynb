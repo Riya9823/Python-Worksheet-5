{
 "cells": [
  {
   "cell_type": "code",
   "execution_count": 1,
   "metadata": {},
   "outputs": [
    {
     "name": "stdout",
     "output_type": "stream",
     "text": [
      "[4, 144, 1156, 1681, 3481]\n"
     ]
    }
   ],
   "source": [
    "# Python program to square the elements of a list by using list comprehension\n",
    "\n",
    "num = [2, 12, 34, 41, 59]\n",
    "\n",
    "sqrd_num = [number ** 2 for number in num]\n",
    "\n",
    "print(sqrd_num)"
   ]
  },
  {
   "cell_type": "code",
   "execution_count": 2,
   "metadata": {},
   "outputs": [
    {
     "name": "stdout",
     "output_type": "stream",
     "text": [
      "{34, 40, 41, 80, 50, 20, 55, 60}\n"
     ]
    }
   ],
   "source": [
    "# Pyhton program to drop duplicate elements from a list of numbers\n",
    "\n",
    "a = [55,20,34,20,55,50,60,40,80,50,40,55,34,41]\n",
    "duplicate_items = set()\n",
    "unique_items = []\n",
    "for x in a:\n",
    "    if x not in duplicate_items:\n",
    "        unique_items.append(x)\n",
    "        duplicate_items.add(x)\n",
    "\n",
    "print(duplicate_items)"
   ]
  },
  {
   "cell_type": "code",
   "execution_count": 3,
   "metadata": {},
   "outputs": [
    {
     "name": "stdout",
     "output_type": "stream",
     "text": [
      "{3, 4}\n"
     ]
    }
   ],
   "source": [
    "#Two sets of numbers implementing the set operations - intersection\n",
    "a = set([2, 3, 4])\n",
    "b = set([3, 4, 5])\n",
    "result = a.intersection(b)\n",
    "print(result)"
   ]
  },
  {
   "cell_type": "code",
   "execution_count": 4,
   "metadata": {},
   "outputs": [
    {
     "name": "stdout",
     "output_type": "stream",
     "text": [
      "{2, 3, 4, 5}\n"
     ]
    }
   ],
   "source": [
    "#Two sets of numbers implementing the set operations - union\n",
    "a = set([2, 3, 4])\n",
    "b = set([3, 4, 5])\n",
    "c = a.union(b)\n",
    "print(c)"
   ]
  },
  {
   "cell_type": "code",
   "execution_count": 5,
   "metadata": {},
   "outputs": [
    {
     "name": "stdout",
     "output_type": "stream",
     "text": [
      "{2}\n"
     ]
    }
   ],
   "source": [
    "#Two sets of numbers implementing the set operations - difference\n",
    "a = set([2, 3, 4])\n",
    "b = set([3, 4, 5])\n",
    "c = a.difference(b)\n",
    "print(c)"
   ]
  },
  {
   "cell_type": "code",
   "execution_count": 6,
   "metadata": {},
   "outputs": [
    {
     "name": "stdout",
     "output_type": "stream",
     "text": [
      "{2, 5}\n"
     ]
    }
   ],
   "source": [
    "#Two sets of numbers implementing the set operations - symmetric_difference\n",
    "a = set([2, 3, 4])\n",
    "b = set([3, 4, 5])\n",
    "c = a.symmetric_difference(b)\n",
    "print(c)"
   ]
  },
  {
   "cell_type": "code",
   "execution_count": 7,
   "metadata": {},
   "outputs": [
    {
     "name": "stdout",
     "output_type": "stream",
     "text": [
      "numbers are: {'3', '1', '5', '2', '4'}\n",
      "numbers are: {'3', '6', '1', '5', '2', '4'}\n"
     ]
    }
   ],
   "source": [
    "# Python program to add the elements of a set\n",
    "num = {'1', '2', '3', '4'}\n",
    "num.add('5')\n",
    "print('numbers are:', num)\n",
    "\n",
    "num.add('6')\n",
    "print('numbers are:', num)"
   ]
  },
  {
   "cell_type": "code",
   "execution_count": null,
   "metadata": {},
   "outputs": [],
   "source": []
  }
 ],
 "metadata": {
  "kernelspec": {
   "display_name": "Python 3",
   "language": "python",
   "name": "python3"
  },
  "language_info": {
   "codemirror_mode": {
    "name": "ipython",
    "version": 3
   },
   "file_extension": ".py",
   "mimetype": "text/x-python",
   "name": "python",
   "nbconvert_exporter": "python",
   "pygments_lexer": "ipython3",
   "version": "3.7.6"
  }
 },
 "nbformat": 4,
 "nbformat_minor": 4
}
